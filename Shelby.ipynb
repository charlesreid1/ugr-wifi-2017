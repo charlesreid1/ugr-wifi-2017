{
 "cells": [
  {
   "cell_type": "code",
   "execution_count": 1,
   "metadata": {},
   "outputs": [
    {
     "ename": "NameError",
     "evalue": "name 'client_collection' is not defined",
     "output_type": "error",
     "traceback": [
      "\u001b[0;31m\u001b[0m",
      "\u001b[0;31mNameError\u001b[0mTraceback (most recent call last)",
      "\u001b[0;32m<ipython-input-1-a6af09d515f0>\u001b[0m in \u001b[0;36m<module>\u001b[0;34m()\u001b[0m\n\u001b[0;32m----> 1\u001b[0;31m \u001b[0mcursor\u001b[0m \u001b[0;34m=\u001b[0m \u001b[0mclient_collection\u001b[0m\u001b[0;34m.\u001b[0m\u001b[0mfind\u001b[0m\u001b[0;34m(\u001b[0m\u001b[0;34m)\u001b[0m\u001b[0;34m\u001b[0m\u001b[0m\n\u001b[0m\u001b[1;32m      2\u001b[0m \u001b[0;32mfor\u001b[0m \u001b[0mj\u001b[0m\u001b[0;34m,\u001b[0m\u001b[0mdoc\u001b[0m \u001b[0;32min\u001b[0m \u001b[0menumerate\u001b[0m\u001b[0;34m(\u001b[0m\u001b[0mcursor\u001b[0m\u001b[0;34m)\u001b[0m\u001b[0;34m:\u001b[0m\u001b[0;34m\u001b[0m\u001b[0m\n\u001b[1;32m      3\u001b[0m     \u001b[0;32mprint\u001b[0m \u001b[0;34m\"Client MAC Address: %s\"\u001b[0m\u001b[0;34m%\u001b[0m\u001b[0;34m(\u001b[0m\u001b[0mdoc\u001b[0m\u001b[0;34m[\u001b[0m\u001b[0;34m'mac'\u001b[0m\u001b[0;34m]\u001b[0m\u001b[0;34m)\u001b[0m\u001b[0;34m\u001b[0m\u001b[0m\n\u001b[1;32m      4\u001b[0m     \u001b[0;32mif\u001b[0m\u001b[0;34m(\u001b[0m\u001b[0mj\u001b[0m\u001b[0;34m>\u001b[0m\u001b[0;36m10\u001b[0m\u001b[0;34m)\u001b[0m\u001b[0;34m:\u001b[0m\u001b[0;34m\u001b[0m\u001b[0m\n\u001b[1;32m      5\u001b[0m         \u001b[0;32mbreak\u001b[0m\u001b[0;34m\u001b[0m\u001b[0m\n",
      "\u001b[0;31mNameError\u001b[0m: name 'client_collection' is not defined"
     ]
    }
   ],
   "source": [
    "cursor = client_collection.find()\n",
    "for j,doc in enumerate(cursor):\n",
    "    print \"Client MAC Address: %s\"%(doc['mac'])\n",
    "    if(j>10):\n",
    "        break"
   ]
  },
  {
   "cell_type": "code",
   "execution_count": 2,
   "metadata": {
    "collapsed": true
   },
   "outputs": [],
   "source": [
    "%matplotlib inline"
   ]
  },
  {
   "cell_type": "code",
   "execution_count": 3,
   "metadata": {
    "collapsed": true
   },
   "outputs": [],
   "source": [
    "import numpy as np\n",
    "import pandas as pd\n",
    "import matplotlib.pyplot as plt\n",
    "import seaborn as sns\n",
    "\n",
    "from pymongo import MongoClient\n",
    "\n",
    "import re\n",
    "import random\n",
    "from pprint import pprint"
   ]
  },
  {
   "cell_type": "code",
   "execution_count": 4,
   "metadata": {
    "collapsed": true
   },
   "outputs": [],
   "source": [
    "client = MongoClient('inspiring_boyd', 27017) # inspiring_boyd is the name of the MongoDB instance\n",
    "db = client.wifi\n",
    "client_collection = db.client_data\n",
    "ap_collection = db.ap_data"
   ]
  },
  {
   "cell_type": "code",
   "execution_count": 5,
   "metadata": {},
   "outputs": [
    {
     "name": "stdout",
     "output_type": "stream",
     "text": [
      "Client MAC Address: 30:CD:A7:30:4E:B5\n",
      "Client MAC Address: A8:BB:CF:20:81:70\n",
      "Client MAC Address: D8:5B:2A:DC:84:ED\n",
      "Client MAC Address: 1A:09:C2:1D:6F:D6\n",
      "Client MAC Address: 6E:BC:2D:E4:57:B1\n",
      "Client MAC Address: 84:7A:88:64:A3:FA\n",
      "Client MAC Address: 30:CD:A7:30:4E:B5\n",
      "Client MAC Address: 50:9E:A7:D9:ED:4B\n",
      "Client MAC Address: 60:67:20:4D:1F:64\n",
      "Client MAC Address: C0:EE:FB:DE:66:68\n",
      "Client MAC Address: 30:CD:A7:30:4E:B5\n",
      "Client MAC Address: 60:67:20:4D:00:DC\n"
     ]
    }
   ],
   "source": [
    "cursor = client_collection.find()\n",
    "for j,doc in enumerate(cursor):\n",
    "    print \"Client MAC Address: %s\"%(doc['mac'])\n",
    "    if(j>10):\n",
    "        break"
   ]
  },
  {
   "cell_type": "code",
   "execution_count": 6,
   "metadata": {},
   "outputs": [
    {
     "name": "stdout",
     "output_type": "stream",
     "text": [
      "Client MAC Address Starting With AA: AA:45:17:B6:11:C3\n",
      "Client MAC Address Starting With AA: AA:9B:16:F6:DB:34\n",
      "Client MAC Address Starting With AA: AA:ED:64:34:C5:BC\n",
      "Client MAC Address Starting With AA: AA:2D:60:38:77:45\n",
      "Client MAC Address Starting With AA: AA:6A:E4:0F:EA:7A\n",
      "Client MAC Address Starting With AA: AA:67:D4:59:3B:A9\n",
      "Client MAC Address Starting With AA: AA:74:40:88:02:7F\n",
      "Client MAC Address Starting With AA: AA:6A:E4:0F:EA:7A\n"
     ]
    }
   ],
   "source": [
    "cursor = client_collection.find({'mac':{'$regex':'^AA'}}) # ^ means \"start\", so ^AA means \"starts with AA\"\n",
    "for j,doc in enumerate( cursor ):\n",
    "    print \"Client MAC Address Starting With AA: %s\"%(doc['mac'])\n",
    "    if(j>10):\n",
    "        break"
   ]
  },
  {
   "cell_type": "code",
   "execution_count": 7,
   "metadata": {},
   "outputs": [
    {
     "name": "stdout",
     "output_type": "stream",
     "text": [
      "Client MAC Address Starting With B: BA:A5:44:6B:30:B7\n",
      "Client MAC Address Starting With B: B8:EE:65:80:EF:F0\n",
      "Client MAC Address Starting With B: B8:EE:65:80:EF:F0\n",
      "Client MAC Address Starting With B: BA:4A:E1:DC:C8:A5\n",
      "Client MAC Address Starting With B: B8:EE:65:80:EF:F0\n",
      "Client MAC Address Starting With B: BE:A3:D6:82:86:E7\n",
      "Client MAC Address Starting With B: BA:A1:21:AC:85:51\n",
      "Client MAC Address Starting With B: B8:EE:65:80:EF:F0\n",
      "Client MAC Address Starting With B: BE:52:F0:EA:37:1E\n",
      "Client MAC Address Starting With B: B8:EE:65:80:EF:F0\n",
      "Client MAC Address Starting With B: B8:EE:65:80:EF:F0\n",
      "Client MAC Address Starting With B: B2:AE:E8:79:9B:48\n"
     ]
    }
   ],
   "source": [
    "cursor = client_collection.find({'mac':{'$regex':'^B'}}) # ^ means \"start\", so ^AA means \"starts with AA\"\n",
    "for j,doc in enumerate( cursor ):\n",
    "    print \"Client MAC Address Starting With B: %s\"%(doc['mac'])\n",
    "    if(j>10):\n",
    "        break"
   ]
  },
  {
   "cell_type": "code",
   "execution_count": 8,
   "metadata": {},
   "outputs": [
    {
     "name": "stdout",
     "output_type": "stream",
     "text": [
      "Client MAC Address Starting With B8: B8:EE:65:80:EF:F0\n",
      "Client MAC Address Starting With B8: B8:EE:65:80:EF:F0\n",
      "Client MAC Address Starting With B8: B8:EE:65:80:EF:F0\n",
      "Client MAC Address Starting With B8: B8:EE:65:80:EF:F0\n",
      "Client MAC Address Starting With B8: B8:EE:65:80:EF:F0\n",
      "Client MAC Address Starting With B8: B8:EE:65:80:EF:F0\n",
      "Client MAC Address Starting With B8: B8:EE:65:80:EF:F0\n",
      "Client MAC Address Starting With B8: B8:EE:65:80:EF:F0\n",
      "Client MAC Address Starting With B8: B8:EE:65:80:EF:F0\n",
      "Client MAC Address Starting With B8: B8:EE:65:80:EF:F0\n",
      "Client MAC Address Starting With B8: B8:EE:65:80:EF:F0\n",
      "Client MAC Address Starting With B8: B8:EE:65:80:EF:F0\n"
     ]
    }
   ],
   "source": [
    "cursor = client_collection.find({'mac':{'$regex':'^B8'}}) # ^ means \"start\", so ^AA means \"starts with AA\"\n",
    "for j,doc in enumerate( cursor ):\n",
    "    print \"Client MAC Address Starting With B8: %s\"%(doc['mac'])\n",
    "    if(j>10):\n",
    "        break"
   ]
  },
  {
   "cell_type": "code",
   "execution_count": 9,
   "metadata": {},
   "outputs": [
    {
     "name": "stdout",
     "output_type": "stream",
     "text": [
      "Client MAC Address Starting With A0: A0:3B:E3:40:B6:77\n",
      "Client MAC Address Starting With A0: A0:39:F7:6F:CB:5C\n",
      "Client MAC Address Starting With A0: A0:39:F7:6F:CB:5C\n",
      "Client MAC Address Starting With A0: A0:39:F7:6F:CB:5C\n",
      "Client MAC Address Starting With A0: A0:39:F7:6F:CB:5C\n",
      "Client MAC Address Starting With A0: A0:39:F7:6F:CB:5C\n",
      "Client MAC Address Starting With A0: A0:A8:CD:A9:C7:61\n",
      "Client MAC Address Starting With A0: A0:39:F7:38:0A:D9\n",
      "Client MAC Address Starting With A0: A0:39:F7:6F:CB:5C\n",
      "Client MAC Address Starting With A0: A0:99:9B:14:F0:B1\n"
     ]
    }
   ],
   "source": [
    "cursor = client_collection.find({'mac':{'$regex':'^A0'}}) # ^ means \"start\", so ^AA means \"starts with AA\"\n",
    "for j,doc in enumerate( cursor ):\n",
    "    print \"Client MAC Address Starting With A0: %s\"%(doc['mac'])\n",
    "    if(j>10):\n",
    "        break"
   ]
  },
  {
   "cell_type": "code",
   "execution_count": 10,
   "metadata": {},
   "outputs": [
    {
     "name": "stdout",
     "output_type": "stream",
     "text": [
      "set([u'1A:09:C2:1D:6F:D6',\n",
      "     u'30:CD:A7:30:4E:B5',\n",
      "     u'50:9E:A7:D9:ED:4B',\n",
      "     u'60:67:20:4D:00:DC',\n",
      "     u'60:67:20:4D:1F:64',\n",
      "     u'6E:BC:2D:E4:57:B1',\n",
      "     u'84:7A:88:64:A3:FA',\n",
      "     u'A8:BB:CF:20:81:70',\n",
      "     u'C0:EE:FB:DE:66:68',\n",
      "     u'D8:5B:2A:DC:84:ED'])\n"
     ]
    }
   ],
   "source": [
    "# This query extracts all MAC addresses \n",
    "# Needs to be adjusted to extract MAC addresses for one experiment\n",
    "cursor = client_collection.find()\n",
    "\n",
    "# Here's a short example:\n",
    "s = set()\n",
    "for j,doc in enumerate(cursor):\n",
    "    s.add(doc['mac'])\n",
    "    # Only print the first 10\n",
    "    if(j>10):\n",
    "        break\n",
    "\n",
    "pprint(s)"
   ]
  },
  {
   "cell_type": "code",
   "execution_count": 11,
   "metadata": {
    "collapsed": true
   },
   "outputs": [],
   "source": [
    "cursor = ap_collection.find()\n",
    "\n",
    "channels = [] # for non-unique items, use a list, not a set!\n",
    "\n",
    "for j,doc in enumerate(cursor):\n",
    "    channels.append(doc['channel'])"
   ]
  },
  {
   "cell_type": "code",
   "execution_count": 12,
   "metadata": {},
   "outputs": [
    {
     "data": {
      "image/png": "[encoded data removed]",
      "text/plain": [
       "<matplotlib.figure.Figure at 0x7fc1843d6b10>"
      ]
     },
     "metadata": {},
     "output_type": "display_data"
    }
   ],
   "source": [
    "# This makes a distribution plot\n",
    "sns.distplot(channels)\n",
    "plt.show()"
   ]
  },
  {
   "cell_type": "code",
   "execution_count": 13,
   "metadata": {},
   "outputs": [
    {
     "data": {
      "image/png": "[encoded data removed]",
      "text/plain": [
       "<matplotlib.figure.Figure at 0x7fc1843d6510>"
      ]
     },
     "metadata": {},
     "output_type": "display_data"
    }
   ],
   "source": [
    "ax = sns.distplot(channels,\n",
    "                  kde=False,\n",
    "                  hist_kws={'alpha':0.8},\n",
    "                  color=sns.xkcd_rgb['brick red'])\n",
    "\n",
    "ax.set_xlim([0,13])\n",
    "ax.set_xlabel('Channel')\n",
    "ax.set_ylabel('Number of Observations')\n",
    "plt.show()"
   ]
  },
  {
   "cell_type": "code",
   "execution_count": 14,
   "metadata": {},
   "outputs": [
    {
     "name": "stdout",
     "output_type": "stream",
     "text": [
      "Found 18 matching timestamps\n"
     ]
    }
   ],
   "source": [
    "# Here is an example duration calculation for one client\n",
    "# (we'll call our client Bilbo Baggins)\n",
    "\n",
    "bilbo_baggins = '60:67:20:4D:1F:64'\n",
    "\n",
    "cursor = client_collection.find({'mac': bilbo_baggins})\n",
    "\n",
    "bilbo_timestamps = []\n",
    "for j,doc in enumerate(cursor):\n",
    "    bilbo_timestamps.append( doc['time'] )\n",
    "\n",
    "print \"Found %d matching timestamps\"%(len(bilbo_timestamps))"
   ]
  },
  {
   "cell_type": "code",
   "execution_count": 15,
   "metadata": {},
   "outputs": [
    {
     "name": "stdout",
     "output_type": "stream",
     "text": [
      "<type 'datetime.datetime'>\n",
      "First seen: \t2017-04-13 16:00:26\n",
      "Last seen: \t2017-04-13 17:58:27\n",
      "Duration: \t1:58:01\n"
     ]
    }
   ],
   "source": [
    "print type(bilbo_timestamps[0])\n",
    "\n",
    "bilbo_timestamps.sort()\n",
    "print \"First seen: \\t%s\"%(bilbo_timestamps[0])\n",
    "print \"Last seen: \\t%s\"%(bilbo_timestamps[-1])\n",
    "print \"Duration: \\t%s\"%(bilbo_timestamps[-1] - bilbo_timestamps[0])"
   ]
  },
  {
   "cell_type": "code",
   "execution_count": 16,
   "metadata": {
    "collapsed": true
   },
   "outputs": [],
   "source": [
    "# This query extracts all MAC addresses \n",
    "# Needs to be adjusted to extract MAC addresses for one experiment\n",
    "cursor = client_collection.find()\n",
    "\n",
    "pwr = []\n",
    "for j,doc in enumerate(cursor):\n",
    "    pwr.append(doc['power'])"
   ]
  },
  {
   "cell_type": "code",
   "execution_count": 17,
   "metadata": {},
   "outputs": [
    {
     "name": "stdout",
     "output_type": "stream",
     "text": [
      "<type 'int'>\n",
      "2627\n"
     ]
    }
   ],
   "source": [
    "print type(pwr[0])\n",
    "\n",
    "print len(pwr)"
   ]
  },
  {
   "cell_type": "code",
   "execution_count": 18,
   "metadata": {},
   "outputs": [
    {
     "data": {
      "image/png": "[encoded data removed]",
      "text/plain": [
       "<matplotlib.figure.Figure at 0x7fc1843c6c50>"
      ]
     },
     "metadata": {},
     "output_type": "display_data"
    }
   ],
   "source": [
    "ax = sns.distplot(pwr,\n",
    "                  kde=False,\n",
    "                  hist_kws={'alpha':1},\n",
    "                  color=sns.xkcd_rgb['shamrock green'])\n",
    "\n",
    "ax.set_xlabel('Signal Strength (dB)')\n",
    "ax.set_ylabel('Number of Observations')\n",
    "plt.show()"
   ]
  },
  {
   "cell_type": "code",
   "execution_count": 19,
   "metadata": {},
   "outputs": [
    {
     "name": "stdout",
     "output_type": "stream",
     "text": [
      "Saw 80 networks:\n",
      "set([u'',\n",
      "     u'ABHWiFi',\n",
      "     u'AProMutant',\n",
      "     u'ASUS',\n",
      "     u'ATT-WIFI-0257',\n",
      "     u'BHHS',\n",
      "     u'BHHS-GUEST',\n",
      "     u'Bill Wi The Science Fi',\n",
      "     u'Buddy',\n",
      "     u'CBCI-D233-2.4',\n",
      "     u'CenturyLink0525',\n",
      "     u'CenturyLink4794',\n",
      "     u'CenturyLink8247',\n",
      "     u'Diesel',\n",
      "     u'FekiFarm-2.4',\n",
      "     u'GhostFire',\n",
      "     u'HOME-2069-2.4',\n",
      "     u'HOME-5F4D-2.4',\n",
      "     u'HOME-8ADB-2.4',\n",
      "     u'HOME-9D91',\n",
      "     u'HOME-D314-2.4',\n",
      "     u'HOME-FE3B-2.4',\n",
      "     u'JAG082824',\n",
      "     u'Kizuki_Izakaya',\n",
      "     u'Kruse_WiFi_bgn',\n",
      "     u'LCARS 2.4',\n",
      "     u'LjLr11',\n",
      "     u'LjLr511',\n",
      "     u'Lokijo3-2.4',\n",
      "     u'MB Hotspot 6446549',\n",
      "     u'NETGEAR71',\n",
      "     u'NETGEAR83',\n",
      "     u'NWCC',\n",
      "     u'PSMHS0130',\n",
      "     u'Password_is_taco',\n",
      "     u'RapidRide',\n",
      "     u'Samsung Galaxy S III 67',\n",
      "     u'School of Rock_EXT',\n",
      "     u'ShaggingChateau',\n",
      "     u'SkyviewCa',\n",
      "     u'SprintWs',\n",
      "     u'Sundsted',\n",
      "     u'T-Mobile Broadband06',\n",
      "     u'TCRadius',\n",
      "     u'TP-LINK_93E9',\n",
      "     u'TaxiLinQ_169_D4CA6E090375',\n",
      "     u'TaxiLinQ_499_D4CA6E095AD1',\n",
      "     u'The Interweb',\n",
      "     u'TheThreeBroomSticks-2.4',\n",
      "     u'TkLrCp7',\n",
      "     u'Verizon-SM-G900V-C9CA',\n",
      "     u'VickieATS',\n",
      "     u'Virus_Detected',\n",
      "     u'WSAH',\n",
      "     u'WSOPHighlinePT',\n",
      "     u'WSea Armory',\n",
      "     u'WiFi Hotspot 1108',\n",
      "     u'WiFi Hotspot 4531',\n",
      "     u'WiFi Hotspot 7017',\n",
      "     u'WiFi Hotspot 7263',\n",
      "     u'WiFi Hotspot 7458',\n",
      "     u'XFINITY',\n",
      "     u'\\\\x00',\n",
      "     u'\\\\x00\\\\x00\\\\x00\\\\x00\\\\x00\\\\x00\\\\x00\\\\x00\\\\x00\\\\x00\\\\x00\\\\x00',\n",
      "     u'a wifi has no name',\n",
      "     u'bd1890',\n",
      "     u'catsrock',\n",
      "     u'dan chevrolet',\n",
      "     u'dhland pros',\n",
      "     u'gradpad',\n",
      "     u'kerbzspark',\n",
      "     u'nomad5',\n",
      "     u'stinkymobile',\n",
      "     u'store16',\n",
      "     u'tango',\n",
      "     u'vendcust',\n",
      "     u'vpnator',\n",
      "     u'woma',\n",
      "     u'xfinitywifi',\n",
      "     u'yrneh09'])\n"
     ]
    }
   ],
   "source": [
    "# This query extracts all wifi network names seen by thing1.\n",
    "cursor = ap_collection.find({'host': 'thing1'})\n",
    "\n",
    "essids = set()\n",
    "for j,doc in enumerate(cursor):\n",
    "    essids.add(doc['essid'])\n",
    "\n",
    "print(\"Saw %d networks:\"%(len(essids)))\n",
    "pprint(essids)"
   ]
  },
  {
   "cell_type": "code",
   "execution_count": 20,
   "metadata": {},
   "outputs": [
    {
     "name": "stdout",
     "output_type": "stream",
     "text": [
      "Saw 361 networks:\n",
      "set([u'',\n",
      "     u'306',\n",
      "     u'358_GUEST',\n",
      "     u'5ECUR3w3p5TOR3',\n",
      "     u'8MKODPLI',\n",
      "     u'AG007',\n",
      "     u'ASUS_2.4_Mo',\n",
      "     u'ASUSofSpades2',\n",
      "     u'Alejandro',\n",
      "     u'Alias',\n",
      "     u'Apollonails',\n",
      "     u'Apollonails-guest',\n",
      "     u'AppleNet',\n",
      "     u'Auggie',\n",
      "     u'B-TAPMYBOX_2.4',\n",
      "     u'BAJR',\n",
      "     u'BKJ-Home',\n",
      "     u'Backfire',\n",
      "     u'BeOurGuest',\n",
      "     u'Bill Wi The Science Fi',\n",
      "     u'Blumpkinet',\n",
      "     u'Bomquisha',\n",
      "     u'BonerJams02',\n",
      "     u\"Brittin's Guest Network\",\n",
      "     u\"Brittin's Wi-Fi Network\",\n",
      "     u'BuckyBadger',\n",
      "     u'Byrdhouse',\n",
      "     u'CBCI-806D-2.4',\n",
      "     u'CBCI-EC1E-2.4',\n",
      "     u'CalebRules',\n",
      "     u'Canterbury',\n",
      "     u\"Cara's Wi-Fi Network\",\n",
      "     u'CarlosM',\n",
      "     u'CasaBarlita',\n",
      "     u'CasaDeCurry',\n",
      "     u'Cascadelink Free Wifi',\n",
      "     u'Cascadelink407_2.4G',\n",
      "     u'CenturyLink0199',\n",
      "     u'CenturyLink0297',\n",
      "     u'CenturyLink074a',\n",
      "     u'CenturyLink0921',\n",
      "     u'CenturyLink1543',\n",
      "     u'CenturyLink1913',\n",
      "     u'CenturyLink1951',\n",
      "     u'CenturyLink1980',\n",
      "     u'CenturyLink2262',\n",
      "     u'CenturyLink2417',\n",
      "     u'CenturyLink2457',\n",
      "     u'CenturyLink2467',\n",
      "     u'CenturyLink2828',\n",
      "     u'CenturyLink2894',\n",
      "     u'CenturyLink3157',\n",
      "     u'CenturyLink3374',\n",
      "     u'CenturyLink3575',\n",
      "     u'CenturyLink4005',\n",
      "     u'CenturyLink4104',\n",
      "     u'CenturyLink4435',\n",
      "     u'CenturyLink4795',\n",
      "     u'CenturyLink5264',\n",
      "     u'CenturyLink7246',\n",
      "     u'CenturyLink8523',\n",
      "     u'CenturyLink9273',\n",
      "     u'Chenrezig',\n",
      "     u'Chris-WiFi',\n",
      "     u'CityBoos-guest',\n",
      "     u'ClubNiaNPhia',\n",
      "     u'CoffeeBlackWhiskeyNeat-2.4',\n",
      "     u'Crazy Plant Lady',\n",
      "     u'CuaHan',\n",
      "     u'DCHQ-1',\n",
      "     u'DIEYUPPIESCUM!!!',\n",
      "     u'DIRECT-01-HP ENVY 4520 series',\n",
      "     u'DIRECT-3E-HP ENVY 4520 series',\n",
      "     u'DIRECT-40-HP Officejet 5740',\n",
      "     u'DIRECT-72-HP ENVY 4520 series',\n",
      "     u'DIRECT-86-HP OfficeJet Pro 6970',\n",
      "     u'DIRECT-9A-HP ENVY 5540 series',\n",
      "     u'DIRECT-A6-HP ENVY 4520 series',\n",
      "     u'DIRECT-DE-HP ENVY 7640 series',\n",
      "     u'DIRECT-Df[TV]UN46EH5300',\n",
      "     u'DIRECT-NI-VIZIOTV',\n",
      "     u'DIRECT-UA-VIZIOTV',\n",
      "     u'DIRECT-f5-HP M452 LaserJet',\n",
      "     u'DIRECT-sdC48x Series',\n",
      "     u'DIRECT-yP-BRAVIA',\n",
      "     u'Dactylnet',\n",
      "     u'Dahngrest',\n",
      "     u'DinsFirewall',\n",
      "     u'DumpsterKitten-2.4',\n",
      "     u'Dvorak',\n",
      "     u'ERMAHGERD! WIERFIER',\n",
      "     u'Ephspride',\n",
      "     u'Evawifi',\n",
      "     u'FBI_Surveillance_Van',\n",
      "     u'Fireman Pole Neighbors',\n",
      "     u'FlowersOn15th',\n",
      "     u'Focke',\n",
      "     u'Freedom',\n",
      "     u'GLnTZ',\n",
      "     u'GLnTZ_2.4_Guest1',\n",
      "     u'Gabarama',\n",
      "     u'Get Off My LAN',\n",
      "     u'Gillooly',\n",
      "     u'Gooddeed',\n",
      "     u'Google Starbucks',\n",
      "     u'GrandArchives',\n",
      "     u'GreenBike',\n",
      "     u'Guestquarters',\n",
      "     u'HOME FE73 5',\n",
      "     u'HOME-20FB-2.4',\n",
      "     u'HOME-232E',\n",
      "     u'HOME-2812',\n",
      "     u'HOME-2984-2.4',\n",
      "     u'HOME-2C78-2.4',\n",
      "     u'HOME-3335-2.4',\n",
      "     u'HOME-3557-2.4',\n",
      "     u'HOME-3767-2.4',\n",
      "     u'HOME-3F63-2.4',\n",
      "     u'HOME-481C-2.4',\n",
      "     u'HOME-4B98',\n",
      "     u'HOME-5082-2.4',\n",
      "     u'HOME-5712',\n",
      "     u'HOME-5D20-2.4',\n",
      "     u'HOME-5F46-2.4',\n",
      "     u'HOME-6444-2.4',\n",
      "     u'HOME-6B72',\n",
      "     u'HOME-71F5-2.4',\n",
      "     u'HOME-7850',\n",
      "     u'HOME-7AB5',\n",
      "     u'HOME-83A5-2.4',\n",
      "     u'HOME-8B02',\n",
      "     u'HOME-8B64',\n",
      "     u'HOME-8DF2-2.4',\n",
      "     u'HOME-8E3D-2.4',\n",
      "     u'HOME-973E-2.4',\n",
      "     u'HOME-9937',\n",
      "     u'HOME-9D32',\n",
      "     u'HOME-9F32',\n",
      "     u'HOME-A1B4-2.4',\n",
      "     u'HOME-A60E-2.4',\n",
      "     u'HOME-A994-2.4',\n",
      "     u'HOME-AA73-2.4',\n",
      "     u'HOME-AEC1-2.4',\n",
      "     u'HOME-B7D4-2.4',\n",
      "     u'HOME-BBD2',\n",
      "     u'HOME-C6C3',\n",
      "     u'HOME-D0A2',\n",
      "     u'HOME-D0D2',\n",
      "     u'HOME-D152',\n",
      "     u'HOME-D3EC',\n",
      "     u'HOME-DC90-2.4',\n",
      "     u'HOME-E1D8-2.4',\n",
      "     u'HOME-E433-2.4',\n",
      "     u'HOME-ED43-2.4',\n",
      "     u'HOME-EFD0-2.4',\n",
      "     u'HOME-F4BE-2.4',\n",
      "     u'HOME-F999',\n",
      "     u'HOME-FD92',\n",
      "     u'HOMEwifi',\n",
      "     u'HP-Print-54-Photosmart 7520',\n",
      "     u'HP-Print-66-Officejet Pro 8600',\n",
      "     u'HP-Print-88-Photosmart 5520',\n",
      "     u'HP-Print-8A-Officejet Pro 8600',\n",
      "     u'HP-Print-F7-Officejet Pro 8610',\n",
      "     u'Haus Homo',\n",
      "     u'Hermes',\n",
      "     u'HilltopService',\n",
      "     u'Home',\n",
      "     u'Home-0BF0',\n",
      "     u'HomeShim',\n",
      "     u'Huckleberry',\n",
      "     u'HuginnAndMuninn-2.4G',\n",
      "     u'I<3TIM_2.4',\n",
      "     u'In Da Clerb We All Fam',\n",
      "     u'In a row',\n",
      "     u'Internetz',\n",
      "     u'IslandGirl-2.4',\n",
      "     u'J-J',\n",
      "     u'JCN',\n",
      "     u'Jergen',\n",
      "     u\"Judy's Chromecast\",\n",
      "     u'JuliaRose',\n",
      "     u'JuulFam',\n",
      "     u'KER01',\n",
      "     u'KER03',\n",
      "     u'KimJongIllmatic',\n",
      "     u'KingdomOfLoathing2.4',\n",
      "     u'Kittynet',\n",
      "     u'KoL_Guest',\n",
      "     u'LAN Before Time',\n",
      "     u'LAN of the Lost',\n",
      "     u'LadyBug',\n",
      "     u'LexxinWland',\n",
      "     u'LoHo',\n",
      "     u'LordofthePings',\n",
      "     u'MADMEN',\n",
      "     u'MESA',\n",
      "     u'MOTOROLA-5A2AD',\n",
      "     u'MR_MEESEEKS',\n",
      "     u'MY SIN',\n",
      "     u'MaldenHOME24GHz',\n",
      "     u'MaldenHOME24GHz_EXT',\n",
      "     u'Manco Capac',\n",
      "     u'Manurism',\n",
      "     u'Marquand-24',\n",
      "     u'Martini-2.4',\n",
      "     u\"Mary's Wi-Fi Network\",\n",
      "     u'Mister Butterworth',\n",
      "     u'MisterKitty',\n",
      "     u'MoonShadow',\n",
      "     u'MusicNet 2',\n",
      "     u'NETGEAR',\n",
      "     u'NETGEAR-2.4-G',\n",
      "     u'NETGEAR07',\n",
      "     u'NETGEAR1',\n",
      "     u'NETGEAR11',\n",
      "     u'NETGEAR12',\n",
      "     u'NETGEAR26',\n",
      "     u'NETGEAR28',\n",
      "     u'NETGEAR29',\n",
      "     u'NETGEAR33',\n",
      "     u'NETGEAR55',\n",
      "     u'NETGEAR57',\n",
      "     u'NETGEAR69',\n",
      "     u'NETGEAR75',\n",
      "     u'NETGEAR94',\n",
      "     u'NTGR_VMB_1490668556',\n",
      "     u'Nedlam',\n",
      "     u'NorwaySweden85',\n",
      "     u'Orange',\n",
      "     u'PB&J',\n",
      "     u'PS4-59CFAFA658DC',\n",
      "     u'Panda Extreme',\n",
      "     u'Pap2. 4',\n",
      "     u'Pastasauce',\n",
      "     u'Pipe Laying Inc.',\n",
      "     u'PizzaParty',\n",
      "     u'PrimeN',\n",
      "     u'Putty_3',\n",
      "     u'RCT',\n",
      "     u'RJK',\n",
      "     u'RLM',\n",
      "     u'RadicalMajik69',\n",
      "     u'Ristretto 2.4',\n",
      "     u'Roadhouse',\n",
      "     u\"Ron Dayne's House\",\n",
      "     u'Running at an incredible rate',\n",
      "     u'Russell',\n",
      "     u\"Ryno's Ri-Fi Network\",\n",
      "     u'SEC_LinkShare_e6df14',\n",
      "     u'SEC_LinkShare_ebaba3',\n",
      "     u'SETUP',\n",
      "     u'SHERLOCKED',\n",
      "     u'Screaming Temporal Doom',\n",
      "     u'Screaming Temporal Doom-guest',\n",
      "     u'SeAnCaLink',\n",
      "     u'Seattle Law',\n",
      "     u'Seattle-2.4',\n",
      "     u'Seawolf1',\n",
      "     u'Seda',\n",
      "     u'ShinyDove',\n",
      "     u'ShinyDove-guest',\n",
      "     u'Snow-Report',\n",
      "     u'Spinnersend',\n",
      "     u'Starbird',\n",
      "     u'SuWon2',\n",
      "     u'TP-LINK_0621',\n",
      "     u'TP-LINK_2.4GHz_090491',\n",
      "     u'TP-LINK_2.4GHz_B29219',\n",
      "     u'TP-LINK_4B59',\n",
      "     u'TP-LINK_5595',\n",
      "     u'TP-LINK_A7B5',\n",
      "     u'TP-LINK_EC64',\n",
      "     u'TWAIN',\n",
      "     u'Tazmania',\n",
      "     u'Thames-N',\n",
      "     u'The Castle',\n",
      "     u'The Interwebz',\n",
      "     u'The Manor',\n",
      "     u'The Nest',\n",
      "     u'The Tavern',\n",
      "     u'The2.4',\n",
      "     u'Tony',\n",
      "     u'Tootsieroll',\n",
      "     u'Trophy Husband',\n",
      "     u'UnicornPorn',\n",
      "     u'Verizon-MiFi6620L-5253',\n",
      "     u'WEEPINGANGEL',\n",
      "     u'WIRELESSNET2',\n",
      "     u'WLAN-TWDC',\n",
      "     u'WaveG Public WiFi',\n",
      "     u'Willtrade4weed',\n",
      "     u'Winternet is coming!',\n",
      "     u'XFINITY',\n",
      "     u'Zeiss',\n",
      "     u'Zoom7099',\n",
      "     u'\\\\x00\\\\x00\\\\x00\\\\x00\\\\x00\\\\x00',\n",
      "     u'\\\\x00\\\\x00\\\\x00\\\\x00\\\\x00\\\\x00\\\\x00',\n",
      "     u'\\\\x00\\\\x00\\\\x00\\\\x00\\\\x00\\\\x00\\\\x00\\\\x00',\n",
      "     u'\\\\x00\\\\x00\\\\x00\\\\x00\\\\x00\\\\x00\\\\x00\\\\x00\\\\x00\\\\x00',\n",
      "     u'\\\\x00\\\\x00\\\\x00\\\\x00\\\\x00\\\\x00\\\\x00\\\\x00\\\\x00\\\\x00\\\\x00',\n",
      "     u'\\\\x00\\\\x00\\\\x00\\\\x00\\\\x00\\\\x00\\\\x00\\\\x00\\\\x00\\\\x00\\\\x00\\\\x00',\n",
      "     u'\\\\x00\\\\x00\\\\x00\\\\x00\\\\x00\\\\x00\\\\x00\\\\x00\\\\x00\\\\x00\\\\x00\\\\x00\\\\x00\\\\x00\\\\x00',\n",
      "     u'\\\\x00\\\\x00\\\\x00\\\\x00\\\\x00\\\\x00\\\\x00\\\\x00\\\\x00\\\\x00\\\\x00\\\\x00\\\\x00\\\\x00\\\\x00\\\\x00\\\\x00\\\\x00',\n",
      "     u'\\\\x00\\\\x00\\\\x00\\\\x00\\\\x00\\\\x00\\\\x00\\\\x00\\\\x00\\\\x00\\\\x00\\\\x00\\\\x00\\\\x00\\\\x00\\\\x00\\\\x00\\\\x00\\\\x00\\\\x00\\\\x00',\n",
      "     u'\\\\x00\\\\x00\\\\x00\\\\x00\\\\x00\\\\x00\\\\x00\\\\x00\\\\x00\\\\x00\\\\x00\\\\x00\\\\x00\\\\x00\\\\x00\\\\x00\\\\x00\\\\x00\\\\x00\\\\x00\\\\x00\\\\x00',\n",
      "     u'bearbrowsing',\n",
      "     u'beckywiththegoodhair',\n",
      "     u'belkin.5af',\n",
      "     u'belkin.5af.guests',\n",
      "     u'belkin.6ee',\n",
      "     u'belkin.6ee.guests',\n",
      "     u'belkin.de2.guests',\n",
      "     u'bengals',\n",
      "     u'chelseagrin',\n",
      "     u'dlink',\n",
      "     u'dropbear',\n",
      "     u'f33db4ck',\n",
      "     u'fbisurveillance-2.4',\n",
      "     u'ferry',\n",
      "     u'filkorchi',\n",
      "     u'galilieo',\n",
      "     u'gargantua-1',\n",
      "     u'glitternet',\n",
      "     u'hearts in sf',\n",
      "     u'hoembaes',\n",
      "     u'hondarageing2G',\n",
      "     u'hoopburg',\n",
      "     u'ineedanonion24',\n",
      "     u'kiiiirk',\n",
      "     u'lifeaquatic',\n",
      "     u'linksys',\n",
      "     u'linksys_98112_4515',\n",
      "     u'm0ckingb3rd',\n",
      "     u'mkwireless',\n",
      "     u'montynet-2.4',\n",
      "     u'mothbones',\n",
      "     u'myqwest2797',\n",
      "     u'myqwest6091',\n",
      "     u'myqwest7452',\n",
      "     u'myqwest8073',\n",
      "     u'myqwest98112',\n",
      "     u'nextstep24',\n",
      "     u'night',\n",
      "     u'password is password',\n",
      "     u'pericolos',\n",
      "     u'phenomenology',\n",
      "     u'rkcdbp',\n",
      "     u'rugsi',\n",
      "     u'safewaywifi',\n",
      "     u'salmo',\n",
      "     u'scudder',\n",
      "     u'seese',\n",
      "     u'shenanigans',\n",
      "     u'spacecadet',\n",
      "     u'sverige',\n",
      "     u'swaaa',\n",
      "     u'swsecure',\n",
      "     u'unicornfury',\n",
      "     u'xfinitywifi',\n",
      "     u'yoalex'])\n"
     ]
    }
   ],
   "source": [
    "# Same query, but for thing2\n",
    "cursor = ap_collection.find({'host': 'thing2'})\n",
    "\n",
    "essids = set()\n",
    "for j,doc in enumerate(cursor):\n",
    "    essids.add(doc['essid'])\n",
    "\n",
    "print(\"Saw %d networks:\"%(len(essids)))\n",
    "pprint(essids)"
   ]
  },
  {
   "cell_type": "code",
   "execution_count": null,
   "metadata": {
    "collapsed": true
   },
   "outputs": [],
   "source": []
  }
 ],
 "metadata": {
  "kernelspec": {
   "display_name": "Python 2",
   "language": "python",
   "name": "python2"
  },
  "language_info": {
   "codemirror_mode": {
    "name": "ipython",
    "version": 2
   },
   "file_extension": ".py",
   "mimetype": "text/x-python",
   "name": "python",
   "nbconvert_exporter": "python",
   "pygments_lexer": "ipython2",
   "version": "2.7.12"
  }
 },
 "nbformat": 4,
 "nbformat_minor": 2
}
