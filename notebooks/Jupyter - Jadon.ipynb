{
 "cells": [
  {
   "cell_type": "code",
   "execution_count": 1,
   "metadata": {
    "collapsed": true
   },
   "outputs": [],
   "source": [
    "%matplotlib inline"
   ]
  },
  {
   "cell_type": "code",
   "execution_count": 2,
   "metadata": {
    "collapsed": true
   },
   "outputs": [],
   "source": [
    "import numpy as np\n",
    "import pandas as pd\n",
    "import matplotlib.pyplot as plt\n",
    "import seaborn as sns\n",
    "\n",
    "from pymongo import MongoClient\n",
    "\n",
    "import re\n",
    "import random\n",
    "from pprint import pprint # Use pprint for printing out lists, one element per line\n",
    "\n",
    "client = MongoClient('inspiring_boyd', 27017) # inspiring_boyd is the name of the MongoDB instance\n",
    "db = client.wifi\n",
    "client_collection = db.client_data\n",
    "ap_collection = db.ap_data"
   ]
  },
  {
   "cell_type": "code",
   "execution_count": 4,
   "metadata": {},
   "outputs": [
    {
     "name": "stdout",
     "output_type": "stream",
     "text": [
      "Client MAC Address Starting With letter-letter: 00:26:B4:9B:11:68\n",
      "Client MAC Address Starting With letter-letter: 00:80:92:E3:84:88\n",
      "Client MAC Address Starting With letter-letter: 00:80:92:E3:84:88\n",
      "Client MAC Address Starting With letter-letter: 00:22:5F:FF:71:D4\n",
      "Client MAC Address Starting With letter-letter: 00:80:92:E3:84:88\n",
      "Client MAC Address Starting With letter-letter: 00:80:92:E3:84:88\n",
      "Client MAC Address Starting With letter-letter: 00:AE:FA:44:6D:65\n",
      "Client MAC Address Starting With letter-letter: 00:80:92:E3:84:88\n",
      "Client MAC Address Starting With letter-letter: 00:CD:FE:D4:F2:21\n",
      "Client MAC Address Starting With letter-letter: 00:80:92:E3:84:88\n",
      "Client MAC Address Starting With letter-letter: 00:80:92:E3:84:88\n",
      "Client MAC Address Starting With letter-letter: 00:B3:62:7C:C2:EF\n"
     ]
    }
   ],
   "source": [
    "cursor = client_collection.find({'mac':{'$regex':'^00'}}) # ^ means \"start\", so ^AA means \"starts with AA\"\n",
    "for j,doc in enumerate( cursor ):\n",
    "    print \"Client MAC Address Starting With letter-letter: %s\"%(doc['mac'])\n",
    "    if(j>10):\n",
    "        break"
   ]
  },
  {
   "cell_type": "code",
   "execution_count": null,
   "metadata": {
    "collapsed": true
   },
   "outputs": [],
   "source": [
    "cursor = ap_collection.find()\n",
    "\n",
    "channels = [] # for non-unique items, use a list, not a set!\n",
    "\n",
    "for j,doc in enumerate(cursor):\n",
    "    channels.append(doc['channel'])"
   ]
  },
  {
   "cell_type": "code",
   "execution_count": null,
   "metadata": {
    "collapsed": true
   },
   "outputs": [],
   "source": [
    "# This makes a distribution plot\n",
    "sns.distplot(channels)\n",
    "plt.show()"
   ]
  }
 ],
 "metadata": {
  "kernelspec": {
   "display_name": "Python 2",
   "language": "python",
   "name": "python2"
  },
  "language_info": {
   "codemirror_mode": {
    "name": "ipython",
    "version": 2
   },
   "file_extension": ".py",
   "mimetype": "text/x-python",
   "name": "python",
   "nbconvert_exporter": "python",
   "pygments_lexer": "ipython2",
   "version": "2.7.12"
  }
 },
 "nbformat": 4,
 "nbformat_minor": 2
}
