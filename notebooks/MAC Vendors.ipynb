{
 "cells": [
  {
   "cell_type": "markdown",
   "metadata": {},
   "source": [
    "Notebook to link MAC addresses to vendors."
   ]
  },
  {
   "cell_type": "code",
   "execution_count": 15,
   "metadata": {
    "collapsed": true
   },
   "outputs": [],
   "source": [
    "%matplotlib inline"
   ]
  },
  {
   "cell_type": "code",
   "execution_count": 23,
   "metadata": {
    "collapsed": true
   },
   "outputs": [],
   "source": [
    "import numpy as np\n",
    "import pandas as pd\n",
    "import matplotlib.pyplot as plt\n",
    "import seaborn as sns\n",
    "\n",
    "from pymongo import MongoClient\n",
    "\n",
    "import re\n",
    "import random\n",
    "from pprint import pprint # Use pprint for printing out lists, one element per line"
   ]
  },
  {
   "cell_type": "code",
   "execution_count": 24,
   "metadata": {
    "collapsed": true
   },
   "outputs": [],
   "source": [
    "client = MongoClient('inspiring_boyd', 27017) # inspiring_boyd is the name of the MongoDB instance\n",
    "db = client.wifi\n",
    "client_collection = db.client_data\n",
    "ap_collection = db.ap_data"
   ]
  },
  {
   "cell_type": "code",
   "execution_count": 25,
   "metadata": {
    "collapsed": true
   },
   "outputs": [],
   "source": [
    "def find_greatest(value_list, oui_list, exception_index=[]): \n",
    "    #finds index of greatest value, assuming all entries in 'a_list' are unique\n",
    "    \n",
    "    #exception_index is a list of indices to skip, \n",
    "    #because these indices are identified as containing one of the highest counts\n",
    "    \n",
    "    top_index = 0\n",
    "    top_value = 0\n",
    "    \n",
    "    for current_item in oui_list:\n",
    "        current_index = oui_list.index(current_item)\n",
    "        \n",
    "        if current_index in exception_index:\n",
    "            continue #basically skip to next item\n",
    "            \n",
    "        if value_list[current_index] >= top_value: #increment 'top_index' and 'top_value'\n",
    "            top_value = value_list[current_index]\n",
    "            top_index = current_index\n",
    "        \n",
    "    return top_index"
   ]
  },
  {
   "cell_type": "code",
   "execution_count": 26,
   "metadata": {},
   "outputs": [
    {
     "name": "stdout",
     "output_type": "stream",
     "text": [
      "1388\n",
      "\n",
      "DONTWORRYTHISISJUSTAPLACEHOLDER---------------------------------------------\n",
      "[29, 16, 18, 8, 17]\n",
      "02:0F:B5\n",
      "42:D2:8A\n",
      "7E:BB:8A\n",
      "60:67:20\n",
      "A0:91:69\n"
     ]
    }
   ],
   "source": [
    "cursor = client_collection.find()\n",
    "s = set()\n",
    "\n",
    "#branching from 'In[14]' where 's' is defined\n",
    "s_key = []\n",
    "s_value = []\n",
    "s_dict = {}\n",
    "\n",
    "#here we are populating 's_dict' and 's_value'\n",
    "for j,doc in enumerate(cursor):\n",
    "    \n",
    "    #formatting MAC address\n",
    "    doc_temp = doc['mac']\n",
    "    doc_temp = doc_temp[:8] #there are 6 characters for the OUI, 8 when including ':'\n",
    "    \n",
    "    #if OUI isn't in s_dict, add it in!\n",
    "    if not(s_dict.has_key(doc_temp)):\n",
    "        s_dict[doc_temp] = 1\n",
    "        s_key.append(doc_temp)\n",
    "        s_value.append(1) #the index of this append will increase for each instance of the OUI seen\n",
    "        \n",
    "    #if OUI is ALREADY in s_dict, increment the value for the corresponding OUI\n",
    "    elif s_dict.has_key(doc_temp):\n",
    "        s_dict[doc_temp] = int(s_dict[doc_temp]) + 1\n",
    "        s_value[s_key.index(doc_temp)] += 1\n",
    "\n",
    "#finding top 5 seen OUIs\n",
    "top_5 = [0,0,0,0,0] #list of indices of top five most seen OUIs\n",
    "\n",
    "for w in range(5):\n",
    "    new_exception_index = find_greatest(s_value, s_key, top_5)\n",
    "        \n",
    "    top_5[w] = new_exception_index\n",
    "    \n",
    "    \n",
    "    \n",
    "    \n",
    "    w+=1\n",
    "        \n",
    "#print len(s)\n",
    "\n",
    "print(len(s_value))\n",
    "print(\"\\nDONTWORRYTHISISJUSTAPLACEHOLDER\")\n",
    "print(top_5)\n",
    "\n",
    "for i in top_5:\n",
    "    print(s_key[i])"
   ]
  },
  {
   "cell_type": "code",
   "execution_count": 27,
   "metadata": {
    "collapsed": true
   },
   "outputs": [],
   "source": [
    "s_list = list(s)\n",
    "\n",
    "for i in range(25):\n",
    "    a = i\n",
    "    #pprint(s_list[i])"
   ]
  },
  {
   "cell_type": "code",
   "execution_count": null,
   "metadata": {
    "collapsed": true
   },
   "outputs": [],
   "source": [
    "'''\n",
    "The manufacturers for the top 5 most seen OUIs are:\n",
    "02:0F:B5 --> \n",
    "42:D2:8A -->\n",
    "7E:BB:8A -->\n",
    "60:67:20 -->\n",
    "A0:91:69 -->\n",
    "'''"
   ]
  }
 ],
 "metadata": {
  "kernelspec": {
   "display_name": "Python 2",
   "language": "python",
   "name": "python2"
  },
  "language_info": {
   "codemirror_mode": {
    "name": "ipython",
    "version": 2
   },
   "file_extension": ".py",
   "mimetype": "text/x-python",
   "name": "python",
   "nbconvert_exporter": "python",
   "pygments_lexer": "ipython2",
   "version": "2.7.12"
  }
 },
 "nbformat": 4,
 "nbformat_minor": 2
}
